{
 "cells": [
  {
   "cell_type": "code",
   "execution_count": 1,
   "id": "908fcaac",
   "metadata": {},
   "outputs": [],
   "source": [
    "#conda install pytesseract"
   ]
  },
  {
   "cell_type": "code",
   "execution_count": 2,
   "id": "4b32792f",
   "metadata": {},
   "outputs": [],
   "source": [
    "import pytesseract"
   ]
  },
  {
   "cell_type": "code",
   "execution_count": null,
   "id": "b9fe10c0",
   "metadata": {},
   "outputs": [],
   "source": [
    "pytesseract.pytesseract.tesseract_cmd='/opt/homebrew/Cellar/tesseract/5.0.1/bin/tesseract'"
   ]
  },
  {
   "cell_type": "code",
   "execution_count": 4,
   "id": "e0c0ed5e",
   "metadata": {},
   "outputs": [],
   "source": [
    "#conda install opencv-python"
   ]
  },
  {
   "cell_type": "code",
   "execution_count": 5,
   "id": "360731c5",
   "metadata": {},
   "outputs": [],
   "source": [
    "#conda install -c conda-forge opencv"
   ]
  },
  {
   "cell_type": "code",
   "execution_count": 6,
   "id": "8daabcd2",
   "metadata": {},
   "outputs": [],
   "source": [
    "import cv2\n",
    "from PIL import Image\n",
    "from matplotlib import pyplot as plt\n",
    "import numpy as np\n",
    "import os\n",
    "\n"
   ]
  },
  {
   "cell_type": "code",
   "execution_count": 7,
   "id": "ebd541bc",
   "metadata": {},
   "outputs": [],
   "source": [
    "image_name = \"./img.jpeg\""
   ]
  },
  {
   "cell_type": "code",
   "execution_count": 8,
   "id": "4458faac",
   "metadata": {},
   "outputs": [],
   "source": [
    "image=cv2.imread(image_name)"
   ]
  },
  {
   "cell_type": "code",
   "execution_count": 9,
   "id": "f1c991d4",
   "metadata": {},
   "outputs": [
    {
     "data": {
      "text/plain": [
       "<matplotlib.image.AxesImage at 0x148f4f7f0>"
      ]
     },
     "execution_count": 9,
     "metadata": {},
     "output_type": "execute_result"
    },
    {
     "data": {
      "image/png": "[encoded data removed]",
      "text/plain": [
       "<Figure size 432x288 with 1 Axes>"
      ]
     },
     "metadata": {
      "needs_background": "light"
     },
     "output_type": "display_data"
    }
   ],
   "source": [
    "plt.imshow(image)"
   ]
  },
  {
   "cell_type": "code",
   "execution_count": 10,
   "id": "16578249",
   "metadata": {},
   "outputs": [
    {
     "name": "stdout",
     "output_type": "stream",
     "text": [
      " \n",
      "\n",
      " \n",
      "\n",
      " \n",
      "\n",
      " \n",
      "\n",
      "CHAPTER I\n",
      "\n",
      " \n",
      "\n",
      "Andrew Street I\n",
      "\n",
      "HERE WERE ABOUT SEVENTY of us kids growing up on Andre\n",
      "Street in the block between Main and Lindhorst Streets, but there\n",
      "\n",
      "were arguments as to the actual number. So we counted, more\n",
      "\n",
      "than once. There were twenty or so kids in arms and carriages, about\n",
      "rwelve between five and eleven, fifteen around twelve to fourteen, and\n",
      "the rest fifteen to twenty and some of those were married with a kid. Bui\n",
      "e were not sure of that breakdown. Every time the total number was\n",
      "ways different! So we decided to agree, and after much debate, agreed,\n",
      "that the number was seventy!\n",
      "‘Andrew Street was located in the suburb of Kenilworth about fifteen\n",
      "miles south from the center of Johannesburg. It was tree-lined on bot\n",
      "ides with eight-foot wide sandy sidewalks and the tarmac street was\n",
      "four-car width with clearance—but not much of it! ‘The southern sub-\n",
      "urbs of Johannesburg, a large area of land, maybe twenty square miles,\n",
      "consisted of slightly rolling hills and valleys. There always seemed to be\n",
      "gradient of some sort; very seldom could you find level ground. Al\n",
      "the big buildings, like schools, were built on banks, built-up ground, o1\n",
      "graded hills, as were the tennis courts, soccer, cricket, and rugby fields.\n",
      "World War II was raging and there seemed to be little food and\n",
      "\n",
      "no money. To bolster nutrition, all kids were forced to drink milk and\n",
      "at caramel candies supplied by the school. We hated the candy, it gave\n",
      "‘ou the same feeling as when you had to take Epsom salts or eat cab-\n",
      "age! Photos were taken of kids, and nurses stuck sticks on our tongues,\n",
      "\n",
      "looked down our throats, examined our chests and measured pulse rates.\n",
      "[The kids at school talked about the war, and to keep up with everyone I\n",
      "\n",
      " \n",
      "\n",
      " \n",
      "\n",
      " \n",
      "\n",
      " \n",
      "\n"
     ]
    }
   ],
   "source": [
    "cv2.imshow(\"Sample Image\",image)\n",
    "#extraction of text\n",
    "\n",
    "text=pytesseract.image_to_string(image)\n",
    "print(text)\n",
    "#cv2.waitKey(0)\n",
    "#cv2.destroyAllWindows()"
   ]
  },
  {
   "cell_type": "code",
   "execution_count": 18,
   "id": "e038f989",
   "metadata": {},
   "outputs": [
    {
     "data": {
      "text/plain": [
       "str"
      ]
     },
     "execution_count": 18,
     "metadata": {},
     "output_type": "execute_result"
    }
   ],
   "source": [
    "type(text)"
   ]
  },
  {
   "cell_type": "code",
   "execution_count": 12,
   "id": "863ffdec",
   "metadata": {},
   "outputs": [
    {
     "data": {
      "text/plain": [
       "1750"
      ]
     },
     "execution_count": 12,
     "metadata": {},
     "output_type": "execute_result"
    }
   ],
   "source": [
    "len(text)"
   ]
  },
  {
   "cell_type": "code",
   "execution_count": 14,
   "id": "8e942370",
   "metadata": {},
   "outputs": [
    {
     "name": "stdout",
     "output_type": "stream",
     "text": [
      " \n",
      "\n"
     ]
    }
   ],
   "source": [
    "# out_lst=[]\n",
    "# out_str=\" \"\n",
    "# for i in range(len(text)):\n",
    "#     if text[i]==\" \":\n",
    "#         out_lst+=[out_str]\n",
    "#         out_str=' '\n",
    "#     elif i==len(text)-1:\n",
    "#         out_str+=text[i]\n",
    "#         out_lst+=[out_str]\n",
    "#     else:\n",
    "#         out_str+=text[i]\n",
    "# print(out_str)\n",
    "    "
   ]
  },
  {
   "cell_type": "code",
   "execution_count": 36,
   "id": "74c6562b",
   "metadata": {},
   "outputs": [],
   "source": [
    "final_list=text.split()"
   ]
  },
  {
   "cell_type": "code",
   "execution_count": 41,
   "id": "e2534f23",
   "metadata": {},
   "outputs": [],
   "source": [
    "word=\"jserws\""
   ]
  },
  {
   "cell_type": "code",
   "execution_count": 42,
   "id": "89efa01e",
   "metadata": {},
   "outputs": [
    {
     "name": "stdout",
     "output_type": "stream",
     "text": [
      "Word not found\n"
     ]
    }
   ],
   "source": [
    "if word in final_list:\n",
    "    print(\"Word found\")\n",
    "else:\n",
    "    print(\"Word not found\")\n",
    "\n",
    "    "
   ]
  },
  {
   "cell_type": "code",
   "execution_count": 23,
   "id": "c1c18e6b",
   "metadata": {},
   "outputs": [],
   "source": [
    "new=text.split()"
   ]
  },
  {
   "cell_type": "code",
   "execution_count": 24,
   "id": "c4b00755",
   "metadata": {},
   "outputs": [
    {
     "data": {
      "text/plain": [
       "['CHAPTER',\n",
       " 'I',\n",
       " 'Andrew',\n",
       " 'Street',\n",
       " 'I',\n",
       " 'HERE',\n",
       " 'WERE',\n",
       " 'ABOUT',\n",
       " 'SEVENTY',\n",
       " 'of',\n",
       " 'us',\n",
       " 'kids',\n",
       " 'growing',\n",
       " 'up',\n",
       " 'on',\n",
       " 'Andre',\n",
       " 'Street',\n",
       " 'in',\n",
       " 'the',\n",
       " 'block',\n",
       " 'between',\n",
       " 'Main',\n",
       " 'and',\n",
       " 'Lindhorst',\n",
       " 'Streets,',\n",
       " 'but',\n",
       " 'there',\n",
       " 'were',\n",
       " 'arguments',\n",
       " 'as',\n",
       " 'to',\n",
       " 'the',\n",
       " 'actual',\n",
       " 'number.',\n",
       " 'So',\n",
       " 'we',\n",
       " 'counted,',\n",
       " 'more',\n",
       " 'than',\n",
       " 'once.',\n",
       " 'There',\n",
       " 'were',\n",
       " 'twenty',\n",
       " 'or',\n",
       " 'so',\n",
       " 'kids',\n",
       " 'in',\n",
       " 'arms',\n",
       " 'and',\n",
       " 'carriages,',\n",
       " 'about',\n",
       " 'rwelve',\n",
       " 'between',\n",
       " 'five',\n",
       " 'and',\n",
       " 'eleven,',\n",
       " 'fifteen',\n",
       " 'around',\n",
       " 'twelve',\n",
       " 'to',\n",
       " 'fourteen,',\n",
       " 'and',\n",
       " 'the',\n",
       " 'rest',\n",
       " 'fifteen',\n",
       " 'to',\n",
       " 'twenty',\n",
       " 'and',\n",
       " 'some',\n",
       " 'of',\n",
       " 'those',\n",
       " 'were',\n",
       " 'married',\n",
       " 'with',\n",
       " 'a',\n",
       " 'kid.',\n",
       " 'Bui',\n",
       " 'e',\n",
       " 'were',\n",
       " 'not',\n",
       " 'sure',\n",
       " 'of',\n",
       " 'that',\n",
       " 'breakdown.',\n",
       " 'Every',\n",
       " 'time',\n",
       " 'the',\n",
       " 'total',\n",
       " 'number',\n",
       " 'was',\n",
       " 'ways',\n",
       " 'different!',\n",
       " 'So',\n",
       " 'we',\n",
       " 'decided',\n",
       " 'to',\n",
       " 'agree,',\n",
       " 'and',\n",
       " 'after',\n",
       " 'much',\n",
       " 'debate,',\n",
       " 'agreed,',\n",
       " 'that',\n",
       " 'the',\n",
       " 'number',\n",
       " 'was',\n",
       " 'seventy!',\n",
       " '‘Andrew',\n",
       " 'Street',\n",
       " 'was',\n",
       " 'located',\n",
       " 'in',\n",
       " 'the',\n",
       " 'suburb',\n",
       " 'of',\n",
       " 'Kenilworth',\n",
       " 'about',\n",
       " 'fifteen',\n",
       " 'miles',\n",
       " 'south',\n",
       " 'from',\n",
       " 'the',\n",
       " 'center',\n",
       " 'of',\n",
       " 'Johannesburg.',\n",
       " 'It',\n",
       " 'was',\n",
       " 'tree-lined',\n",
       " 'on',\n",
       " 'bot',\n",
       " 'ides',\n",
       " 'with',\n",
       " 'eight-foot',\n",
       " 'wide',\n",
       " 'sandy',\n",
       " 'sidewalks',\n",
       " 'and',\n",
       " 'the',\n",
       " 'tarmac',\n",
       " 'street',\n",
       " 'was',\n",
       " 'four-car',\n",
       " 'width',\n",
       " 'with',\n",
       " 'clearance—but',\n",
       " 'not',\n",
       " 'much',\n",
       " 'of',\n",
       " 'it!',\n",
       " '‘The',\n",
       " 'southern',\n",
       " 'sub-',\n",
       " 'urbs',\n",
       " 'of',\n",
       " 'Johannesburg,',\n",
       " 'a',\n",
       " 'large',\n",
       " 'area',\n",
       " 'of',\n",
       " 'land,',\n",
       " 'maybe',\n",
       " 'twenty',\n",
       " 'square',\n",
       " 'miles,',\n",
       " 'consisted',\n",
       " 'of',\n",
       " 'slightly',\n",
       " 'rolling',\n",
       " 'hills',\n",
       " 'and',\n",
       " 'valleys.',\n",
       " 'There',\n",
       " 'always',\n",
       " 'seemed',\n",
       " 'to',\n",
       " 'be',\n",
       " 'gradient',\n",
       " 'of',\n",
       " 'some',\n",
       " 'sort;',\n",
       " 'very',\n",
       " 'seldom',\n",
       " 'could',\n",
       " 'you',\n",
       " 'find',\n",
       " 'level',\n",
       " 'ground.',\n",
       " 'Al',\n",
       " 'the',\n",
       " 'big',\n",
       " 'buildings,',\n",
       " 'like',\n",
       " 'schools,',\n",
       " 'were',\n",
       " 'built',\n",
       " 'on',\n",
       " 'banks,',\n",
       " 'built-up',\n",
       " 'ground,',\n",
       " 'o1',\n",
       " 'graded',\n",
       " 'hills,',\n",
       " 'as',\n",
       " 'were',\n",
       " 'the',\n",
       " 'tennis',\n",
       " 'courts,',\n",
       " 'soccer,',\n",
       " 'cricket,',\n",
       " 'and',\n",
       " 'rugby',\n",
       " 'fields.',\n",
       " 'World',\n",
       " 'War',\n",
       " 'II',\n",
       " 'was',\n",
       " 'raging',\n",
       " 'and',\n",
       " 'there',\n",
       " 'seemed',\n",
       " 'to',\n",
       " 'be',\n",
       " 'little',\n",
       " 'food',\n",
       " 'and',\n",
       " 'no',\n",
       " 'money.',\n",
       " 'To',\n",
       " 'bolster',\n",
       " 'nutrition,',\n",
       " 'all',\n",
       " 'kids',\n",
       " 'were',\n",
       " 'forced',\n",
       " 'to',\n",
       " 'drink',\n",
       " 'milk',\n",
       " 'and',\n",
       " 'at',\n",
       " 'caramel',\n",
       " 'candies',\n",
       " 'supplied',\n",
       " 'by',\n",
       " 'the',\n",
       " 'school.',\n",
       " 'We',\n",
       " 'hated',\n",
       " 'the',\n",
       " 'candy,',\n",
       " 'it',\n",
       " 'gave',\n",
       " '‘ou',\n",
       " 'the',\n",
       " 'same',\n",
       " 'feeling',\n",
       " 'as',\n",
       " 'when',\n",
       " 'you',\n",
       " 'had',\n",
       " 'to',\n",
       " 'take',\n",
       " 'Epsom',\n",
       " 'salts',\n",
       " 'or',\n",
       " 'eat',\n",
       " 'cab-',\n",
       " 'age!',\n",
       " 'Photos',\n",
       " 'were',\n",
       " 'taken',\n",
       " 'of',\n",
       " 'kids,',\n",
       " 'and',\n",
       " 'nurses',\n",
       " 'stuck',\n",
       " 'sticks',\n",
       " 'on',\n",
       " 'our',\n",
       " 'tongues,',\n",
       " 'looked',\n",
       " 'down',\n",
       " 'our',\n",
       " 'throats,',\n",
       " 'examined',\n",
       " 'our',\n",
       " 'chests',\n",
       " 'and',\n",
       " 'measured',\n",
       " 'pulse',\n",
       " 'rates.',\n",
       " '[The',\n",
       " 'kids',\n",
       " 'at',\n",
       " 'school',\n",
       " 'talked',\n",
       " 'about',\n",
       " 'the',\n",
       " 'war,',\n",
       " 'and',\n",
       " 'to',\n",
       " 'keep',\n",
       " 'up',\n",
       " 'with',\n",
       " 'everyone',\n",
       " 'I']"
      ]
     },
     "execution_count": 24,
     "metadata": {},
     "output_type": "execute_result"
    }
   ],
   "source": []
  },
  {
   "cell_type": "code",
   "execution_count": 25,
   "id": "3d6115f2",
   "metadata": {},
   "outputs": [],
   "source": [
    "import pandas as pd"
   ]
  },
  {
   "cell_type": "code",
   "execution_count": 26,
   "id": "7945859b",
   "metadata": {},
   "outputs": [
    {
     "data": {
      "text/html": [
       "<div>\n",
       "<style scoped>\n",
       "    .dataframe tbody tr th:only-of-type {\n",
       "        vertical-align: middle;\n",
       "    }\n",
       "\n",
       "    .dataframe tbody tr th {\n",
       "        vertical-align: top;\n",
       "    }\n",
       "\n",
       "    .dataframe thead th {\n",
       "        text-align: right;\n",
       "    }\n",
       "</style>\n",
       "<table border=\"1\" class=\"dataframe\">\n",
       "  <thead>\n",
       "    <tr style=\"text-align: right;\">\n",
       "      <th></th>\n",
       "      <th>0</th>\n",
       "    </tr>\n",
       "  </thead>\n",
       "  <tbody>\n",
       "    <tr>\n",
       "      <th>0</th>\n",
       "      <td>CHAPTER</td>\n",
       "    </tr>\n",
       "    <tr>\n",
       "      <th>1</th>\n",
       "      <td>I</td>\n",
       "    </tr>\n",
       "    <tr>\n",
       "      <th>2</th>\n",
       "      <td>Andrew</td>\n",
       "    </tr>\n",
       "    <tr>\n",
       "      <th>3</th>\n",
       "      <td>Street</td>\n",
       "    </tr>\n",
       "    <tr>\n",
       "      <th>4</th>\n",
       "      <td>I</td>\n",
       "    </tr>\n",
       "    <tr>\n",
       "      <th>...</th>\n",
       "      <td>...</td>\n",
       "    </tr>\n",
       "    <tr>\n",
       "      <th>300</th>\n",
       "      <td>keep</td>\n",
       "    </tr>\n",
       "    <tr>\n",
       "      <th>301</th>\n",
       "      <td>up</td>\n",
       "    </tr>\n",
       "    <tr>\n",
       "      <th>302</th>\n",
       "      <td>with</td>\n",
       "    </tr>\n",
       "    <tr>\n",
       "      <th>303</th>\n",
       "      <td>everyone</td>\n",
       "    </tr>\n",
       "    <tr>\n",
       "      <th>304</th>\n",
       "      <td>I</td>\n",
       "    </tr>\n",
       "  </tbody>\n",
       "</table>\n",
       "<p>305 rows × 1 columns</p>\n",
       "</div>"
      ],
      "text/plain": [
       "            0\n",
       "0     CHAPTER\n",
       "1           I\n",
       "2      Andrew\n",
       "3      Street\n",
       "4           I\n",
       "..        ...\n",
       "300      keep\n",
       "301        up\n",
       "302      with\n",
       "303  everyone\n",
       "304         I\n",
       "\n",
       "[305 rows x 1 columns]"
      ]
     },
     "execution_count": 26,
     "metadata": {},
     "output_type": "execute_result"
    }
   ],
   "source": [
    "pd.DataFrame(new)"
   ]
  },
  {
   "cell_type": "code",
   "execution_count": null,
   "id": "a981200e",
   "metadata": {},
   "outputs": [],
   "source": []
  }
 ],
 "metadata": {
  "kernelspec": {
   "display_name": "Python 3.9 (tensorflow)",
   "language": "python",
   "name": "tensorflow"
  },
  "language_info": {
   "codemirror_mode": {
    "name": "ipython",
    "version": 3
   },
   "file_extension": ".py",
   "mimetype": "text/x-python",
   "name": "python",
   "nbconvert_exporter": "python",
   "pygments_lexer": "ipython3",
   "version": "3.9.7"
  }
 },
 "nbformat": 4,
 "nbformat_minor": 5
}
